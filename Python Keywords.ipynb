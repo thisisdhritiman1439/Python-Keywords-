{
 "cells": [
  {
   "cell_type": "code",
   "execution_count": 2,
   "id": "62b399c6-4c95-4d81-ba0d-09e53a961674",
   "metadata": {},
   "outputs": [
    {
     "name": "stdout",
     "output_type": "stream",
     "text": [
      "Hello, Alice!\n"
     ]
    }
   ],
   "source": [
    "# Python Keywords, Identifiers, Comments, Indentation and Statements:\n",
    "\n",
    "# 1. Explain the significance of Python keywords and provide examples of five keywords.\n",
    "\n",
    "# The five Python keywords and their significance, along with examples:\n",
    "\n",
    "# A.def: The def keyword is used to define a function.\n",
    "# Example:    \n",
    "def greet(name):\n",
    "    print(f\"Hello, {name}!\")\n",
    "greet(\"Alice\") "
   ]
  },
  {
   "cell_type": "code",
   "execution_count": 3,
   "id": "9ddd34fc-12fd-4023-8ab8-725332c33fa2",
   "metadata": {},
   "outputs": [
    {
     "name": "stdout",
     "output_type": "stream",
     "text": [
      "You are an adult\n"
     ]
    }
   ],
   "source": [
    "# if, elif, else: These keywords are used for conditional statements.\n",
    "# Example:\n",
    "age = 25\n",
    "if age < 18:\n",
    "    print(\"You are a minor\")\n",
    "elif age >= 18 and age < 65:\n",
    "    print(\"You are an adult\")\n",
    "else:\n",
    "    print(\"You are a senior citizen\")"
   ]
  },
  {
   "cell_type": "code",
   "execution_count": 4,
   "id": "5f8dba68-0a7a-4473-888b-f4c63d0b728c",
   "metadata": {},
   "outputs": [
    {
     "name": "stdout",
     "output_type": "stream",
     "text": [
      "apple\n",
      "banana\n",
      "cherry\n"
     ]
    }
   ],
   "source": [
    " # for: The for keyword is used to create a loop.\n",
    "# Example:\n",
    "fruits = [\"apple\", \"banana\", \"cherry\"]\n",
    "for fruit in fruits:\n",
    "    print(fruit)"
   ]
  },
  {
   "cell_type": "code",
   "execution_count": 7,
   "id": "362f7e2e-ac2f-49ff-ae7a-2f165ff2179c",
   "metadata": {},
   "outputs": [
    {
     "name": "stdout",
     "output_type": "stream",
     "text": [
      "This is a Range Rover Phantom.\n"
     ]
    }
   ],
   "source": [
    "# class: The class keyword is used to define a class.\n",
    "# Example:\n",
    "class Car:\n",
    "    def __init__(self, make, model):\n",
    "        self.make = make\n",
    "        self.model = model        \n",
    "    def display_info(self):\n",
    "        print(f\"This is a {self.make} {self.model}.\")  \n",
    "my_car = Car(\"Range Rover\", \"Phantom\")\n",
    "my_car.display_info()  "
   ]
  },
  {
   "cell_type": "code",
   "execution_count": 8,
   "id": "1282ba6c-55e1-4f57-a5bf-d69bea0e9d24",
   "metadata": {},
   "outputs": [
    {
     "name": "stdout",
     "output_type": "stream",
     "text": [
      "0\n",
      "1\n",
      "2\n",
      "3\n",
      "4\n"
     ]
    }
   ],
   "source": [
    "# While: The while keyword is used to create a loop that executes as long as the condition is true.\n",
    "# Example:\n",
    "count = 0\n",
    "while count < 5:\n",
    "    print(count)\n",
    "    count += 1"
   ]
  },
  {
   "cell_type": "code",
   "execution_count": 11,
   "id": "7e2ca226-aada-4259-9dcd-2a0c76f98349",
   "metadata": {},
   "outputs": [
    {
     "data": {
      "text/plain": [
       "'PWSkills'"
      ]
     },
     "execution_count": 11,
     "metadata": {},
     "output_type": "execute_result"
    }
   ],
   "source": [
    "# 2. Describe the rules for defining identifiers in Python and provide an example.\n",
    "\n",
    "#     In Python, identifiers are names used to identify variables, functions, classes, modules, or other objects in the code.\n",
    "#     The Rules for Defining identifiers in Python are:\n",
    "\n",
    "#     A. Naming Convention: Python follows a specific naming convention for identifiers. Identifiers should be written in lowercase,\n",
    "#                           and two words should be separated by underscores. For example, my_var, cal_sum.\n",
    "#     B. First Character: The First Character of an identifier must be a letter or an underscore. It cannot start with a digit.\n",
    "#     C. Reserved Keywords: Python has a set of reserved keywords that cannot be used as identifiers. For Example, def, if, elif, while, for.\n",
    "def sum_words(a,b):\n",
    "    return a+b\n",
    "sum_words(\"PW\",\"Skills\")"
   ]
  },
  {
   "cell_type": "code",
   "execution_count": 9,
   "id": "4d54c2b2-e100-40d6-9764-43bc825af2f5",
   "metadata": {},
   "outputs": [
    {
     "name": "stdout",
     "output_type": "stream",
     "text": [
      "Hello, World!\n",
      "This is a statement after the multi-line comment.\n"
     ]
    }
   ],
   "source": [
    "# 3. What are comments in Python, and why are they useful? Provide an example.\n",
    "   \n",
    "#     Comments in Python: Comments are the lines in the code that are ignored by the interpreter during the execution of the program.\n",
    "#     The Comments are Useful because: \n",
    "#         A. Enhance code readability\n",
    "#         B. Explaining code to other\n",
    "#         C. Understanding code if studied after some time\n",
    "#         D. Sharing code with fellow developers\n",
    "#         E. Collaborating with multiple people.\n",
    "# Example:    \n",
    "# This is a single-line comment\n",
    "print(\"Hello, World!\")  # This is also a single-line comment\n",
    "                \n",
    "\"\"\"\n",
    "This is a multi-line comment.\n",
    "It spans multiple lines and can be used\n",
    "to provide detailed explanations or documentation.\n",
    "\"\"\"\n",
    "print(\"This is a statement after the multi-line comment.\")"
   ]
  },
  {
   "cell_type": "code",
   "execution_count": 12,
   "id": "841cbe52-f8b7-4352-b2c7-1d6b72cdff28",
   "metadata": {},
   "outputs": [
    {
     "name": "stdout",
     "output_type": "stream",
     "text": [
      "0\n",
      "1\n",
      "2\n",
      "3\n",
      "4\n"
     ]
    }
   ],
   "source": [
    "# 4. Why is proper indentation important in Python?\n",
    "\n",
    "#     Proper Indentation in Python: Proper indentation is crucial in Python because it is used to define the structure of the code.\n",
    "#     In Python, indentation is a fundamental part of the language's syntax and is used to denote code blocks. Proper indentation makes \n",
    "#     the code easier to read and understand. It visually separates different levels of code blocks, such as loops, conditional statements, and function definitions.\n",
    "\n",
    "i=0\n",
    "for i in range(5):\n",
    "    print(i) # The indentation "
   ]
  },
  {
   "cell_type": "code",
   "execution_count": 13,
   "id": "58ff757f-2d80-4972-a13a-1fa0a279c6a3",
   "metadata": {},
   "outputs": [
    {
     "ename": "IndentationError",
     "evalue": "expected an indented block after function definition on line 5 (4104900048.py, line 6)",
     "output_type": "error",
     "traceback": [
      "\u001b[0;36m  Cell \u001b[0;32mIn[13], line 6\u001b[0;36m\u001b[0m\n\u001b[0;31m    return n*n\u001b[0m\n\u001b[0m    ^\u001b[0m\n\u001b[0;31mIndentationError\u001b[0m\u001b[0;31m:\u001b[0m expected an indented block after function definition on line 5\n"
     ]
    }
   ],
   "source": [
    "# 5. What happens if indentation is incorrect in Python? \n",
    "\n",
    "#      Indentation is a very important concept of Python because without proper indentation the Python code will\n",
    "#      throw an IndentationError and the code will not get compiled.\n",
    "def square_no(n):\n",
    "return n*n # If Indentation is incorrect\n",
    "square_no(5)    "
   ]
  },
  {
   "cell_type": "code",
   "execution_count": 14,
   "id": "6aabe83c-fd77-45ca-be30-71b36f946c04",
   "metadata": {},
   "outputs": [
    {
     "name": "stdout",
     "output_type": "stream",
     "text": [
      "5\n"
     ]
    }
   ],
   "source": [
    "# Differentiate between expression and statement in Python with examples.\n",
    "\n",
    "#     In Python, expressions can be used as part of statements, but all statements are not expressions. For example, statement x = 2 + 3 \n",
    "#     consists of the expression 2 + 3 on the right-hand side, but the entire statement is not an expression because it modifies the value of the variable x.\n",
    "#         Expressions are executed to produce a value, while statements are executed to perform specific tasks or operations.\n",
    "\n",
    "x=2+3 # x=2+3 is the statement && 2+3 is the expression\n",
    "print(x)\n"
   ]
  }
 ],
 "metadata": {
  "kernelspec": {
   "display_name": "Python 3 (ipykernel)",
   "language": "python",
   "name": "python3"
  },
  "language_info": {
   "codemirror_mode": {
    "name": "ipython",
    "version": 3
   },
   "file_extension": ".py",
   "mimetype": "text/x-python",
   "name": "python",
   "nbconvert_exporter": "python",
   "pygments_lexer": "ipython3",
   "version": "3.10.12"
  }
 },
 "nbformat": 4,
 "nbformat_minor": 5
}
